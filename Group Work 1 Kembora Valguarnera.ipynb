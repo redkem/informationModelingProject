{
 "cells": [
  {
   "cell_type": "markdown",
   "metadata": {},
   "source": [
    "<h1>Project Work 1 - The Glass Dataset</h1>\n",
    "\n",
    "<h2>Introduction</h2>\n",
    "\n",
    "In this project work, we will use the Glass dataset. This is a multi-classification problem, where we want to determine the type of glass based on its chemical composition.\n",
    "\n",
    "The <b>attributes</b> are: <b>RI</b>: refractive index, <b>Na</b>: Sodium, <b>Mg</b>: Magnesium, <b>Al</b>: Aluminum, <b>Si</b>: Silicon, <b>K</b>: Potassium, <b>Ca</b>: Calcium, <b>Ba</b>: Barium, <b>Fe</b>: Iron.\n",
    "\n",
    "Therefore, we have 9 attributes.\n",
    "\n",
    "<h3>Goals</h3>\n",
    "\n",
    "We will compare the performance of three classifiers:\n",
    "<ul>\n",
    "    <li>K-Nearest Neighbors (k-NN)</li>\n",
    "    <li>Gaussian Naive Bayes (NB)</li>\n",
    "    <li>Random Guess (RG)</li>\n",
    "</ul>\n",
    "\n",
    "Considering the following metrics:\n",
    "\n",
    "<ul>\n",
    "    <li>Precision</li>\n",
    "    <li>Recall</li>\n",
    "    <li>Accuracy</li>\n",
    "    <li>F1</li>\n",
    "</ul>\n"
   ]
  },
  {
   "cell_type": "markdown",
   "metadata": {},
   "source": [
    "<h2>The Glass Dataset</h2>\n",
    "\n",
    "<h3>Exploration</h3>\n",
    "\n",
    "First, we will import the main Python librearies needed for this problem."
   ]
  },
  {
   "cell_type": "code",
   "execution_count": 3,
   "metadata": {},
   "outputs": [],
   "source": [
    "import pandas as pd\n",
    "import numpy as np\n",
    "import scipy as sc\n",
    "%matplotlib inline\n",
    "import matplotlib.pyplot as plt\n",
    "import seaborn as sn\n",
    "from sklearn.model_selection import train_test_split\n",
    "from sklearn.model_selection import KFold\n",
    "from sklearn.preprocessing import MinMaxScaler\n",
    "from sklearn import svm\n",
    "from sklearn.neighbors import KNeighborsClassifier\n",
    "from sklearn.naive_bayes import GaussianNB\n",
    "from sklearn.dummy import DummyClassifier\n",
    "from sklearn.metrics import accuracy_score\n",
    "from sklearn.metrics import recall_score\n",
    "from sklearn.metrics import precision_score\n",
    "from sklearn.metrics import confusion_matrix\n",
    "from sklearn.metrics import f1_score\n",
    "from sklearn import metrics\n",
    "from sklearn import dummy\n",
    "from IPython.display import Image\n",
    "from sklearn.model_selection import GridSearchCV\n",
    "from sklearn.pipeline import make_pipeline\n",
    "from sklearn.model_selection import cross_val_score"
   ]
  },
  {
   "cell_type": "markdown",
   "metadata": {},
   "source": [
    "Then, we upload the dataset and explore its structure."
   ]
  },
  {
   "cell_type": "code",
   "execution_count": 7,
   "metadata": {},
   "outputs": [],
   "source": [
    "#Step 1. Upload the dataset\n",
    "path = \"glass.csv\"\n",
    "db = pd.read_csv(path)"
   ]
  },
  {
   "cell_type": "code",
   "execution_count": 8,
   "metadata": {},
   "outputs": [
    {
     "data": {
      "text/html": [
       "<div>\n",
       "<style scoped>\n",
       "    .dataframe tbody tr th:only-of-type {\n",
       "        vertical-align: middle;\n",
       "    }\n",
       "\n",
       "    .dataframe tbody tr th {\n",
       "        vertical-align: top;\n",
       "    }\n",
       "\n",
       "    .dataframe thead th {\n",
       "        text-align: right;\n",
       "    }\n",
       "</style>\n",
       "<table border=\"1\" class=\"dataframe\">\n",
       "  <thead>\n",
       "    <tr style=\"text-align: right;\">\n",
       "      <th></th>\n",
       "      <th>RI</th>\n",
       "      <th>Na</th>\n",
       "      <th>Mg</th>\n",
       "      <th>Al</th>\n",
       "      <th>Si</th>\n",
       "      <th>K</th>\n",
       "      <th>Ca</th>\n",
       "      <th>Ba</th>\n",
       "      <th>Fe</th>\n",
       "      <th>Type</th>\n",
       "    </tr>\n",
       "  </thead>\n",
       "  <tbody>\n",
       "    <tr>\n",
       "      <th>0</th>\n",
       "      <td>1.52101</td>\n",
       "      <td>13.64</td>\n",
       "      <td>4.49</td>\n",
       "      <td>1.10</td>\n",
       "      <td>71.78</td>\n",
       "      <td>0.06</td>\n",
       "      <td>8.75</td>\n",
       "      <td>0.0</td>\n",
       "      <td>0.0</td>\n",
       "      <td>1</td>\n",
       "    </tr>\n",
       "    <tr>\n",
       "      <th>1</th>\n",
       "      <td>1.51761</td>\n",
       "      <td>13.89</td>\n",
       "      <td>3.60</td>\n",
       "      <td>1.36</td>\n",
       "      <td>72.73</td>\n",
       "      <td>0.48</td>\n",
       "      <td>7.83</td>\n",
       "      <td>0.0</td>\n",
       "      <td>0.0</td>\n",
       "      <td>1</td>\n",
       "    </tr>\n",
       "    <tr>\n",
       "      <th>2</th>\n",
       "      <td>1.51618</td>\n",
       "      <td>13.53</td>\n",
       "      <td>3.55</td>\n",
       "      <td>1.54</td>\n",
       "      <td>72.99</td>\n",
       "      <td>0.39</td>\n",
       "      <td>7.78</td>\n",
       "      <td>0.0</td>\n",
       "      <td>0.0</td>\n",
       "      <td>1</td>\n",
       "    </tr>\n",
       "    <tr>\n",
       "      <th>3</th>\n",
       "      <td>1.51766</td>\n",
       "      <td>13.21</td>\n",
       "      <td>3.69</td>\n",
       "      <td>1.29</td>\n",
       "      <td>72.61</td>\n",
       "      <td>0.57</td>\n",
       "      <td>8.22</td>\n",
       "      <td>0.0</td>\n",
       "      <td>0.0</td>\n",
       "      <td>1</td>\n",
       "    </tr>\n",
       "    <tr>\n",
       "      <th>4</th>\n",
       "      <td>1.51742</td>\n",
       "      <td>13.27</td>\n",
       "      <td>3.62</td>\n",
       "      <td>1.24</td>\n",
       "      <td>73.08</td>\n",
       "      <td>0.55</td>\n",
       "      <td>8.07</td>\n",
       "      <td>0.0</td>\n",
       "      <td>0.0</td>\n",
       "      <td>1</td>\n",
       "    </tr>\n",
       "  </tbody>\n",
       "</table>\n",
       "</div>"
      ],
      "text/plain": [
       "        RI     Na    Mg    Al     Si     K    Ca   Ba   Fe  Type\n",
       "0  1.52101  13.64  4.49  1.10  71.78  0.06  8.75  0.0  0.0     1\n",
       "1  1.51761  13.89  3.60  1.36  72.73  0.48  7.83  0.0  0.0     1\n",
       "2  1.51618  13.53  3.55  1.54  72.99  0.39  7.78  0.0  0.0     1\n",
       "3  1.51766  13.21  3.69  1.29  72.61  0.57  8.22  0.0  0.0     1\n",
       "4  1.51742  13.27  3.62  1.24  73.08  0.55  8.07  0.0  0.0     1"
      ]
     },
     "execution_count": 8,
     "metadata": {},
     "output_type": "execute_result"
    }
   ],
   "source": [
    "#Step 2. Explore the dataset structure\n",
    "# We use the head() method to return the first n rows (default n = 5).\n",
    "db.head()"
   ]
  },
  {
   "cell_type": "code",
   "execution_count": 9,
   "metadata": {},
   "outputs": [
    {
     "name": "stdout",
     "output_type": "stream",
     "text": [
      "<class 'pandas.core.frame.DataFrame'>\n",
      "RangeIndex: 214 entries, 0 to 213\n",
      "Data columns (total 10 columns):\n",
      "RI      214 non-null float64\n",
      "Na      214 non-null float64\n",
      "Mg      214 non-null float64\n",
      "Al      214 non-null float64\n",
      "Si      214 non-null float64\n",
      "K       214 non-null float64\n",
      "Ca      214 non-null float64\n",
      "Ba      214 non-null float64\n",
      "Fe      214 non-null float64\n",
      "Type    214 non-null int64\n",
      "dtypes: float64(9), int64(1)\n",
      "memory usage: 16.8 KB\n"
     ]
    }
   ],
   "source": [
    "#Step 3. We use the info() method to return a description of the database.\n",
    "db.info()"
   ]
  },
  {
   "cell_type": "code",
   "execution_count": 10,
   "metadata": {},
   "outputs": [
    {
     "data": {
      "text/plain": [
       "2    76\n",
       "1    70\n",
       "7    29\n",
       "3    17\n",
       "5    13\n",
       "6     9\n",
       "Name: Type, dtype: int64"
      ]
     },
     "execution_count": 10,
     "metadata": {},
     "output_type": "execute_result"
    }
   ],
   "source": [
    "#Step 4: We use the value_counts() method to find out how many classes we have, and whether the dataset is balanced or not.\n",
    "db[\"Type\"].value_counts()"
   ]
  },
  {
   "cell_type": "code",
   "execution_count": 11,
   "metadata": {},
   "outputs": [
    {
     "data": {
      "text/plain": [
       "array([[<matplotlib.axes._subplots.AxesSubplot object at 0x1a0dedc590>]],\n",
       "      dtype=object)"
      ]
     },
     "execution_count": 11,
     "metadata": {},
     "output_type": "execute_result"
    },
    {
     "data": {
      "image/png": "[encoded data removed]",
      "text/plain": [
       "<matplotlib.figure.Figure at 0x107da0ed0>"
      ]
     },
     "metadata": {},
     "output_type": "display_data"
    }
   ],
   "source": [
    "#Step 5: we will display the histogram of the classes\n",
    "db.hist(\"Type\",bins=20)"
   ]
  },
  {
   "cell_type": "markdown",
   "metadata": {},
   "source": [
    "<h3>Visualization</h3>\n",
    "\n",
    "We will visualize the data using histograms to find out the distribution of the variables in the dataset."
   ]
  },
  {
   "cell_type": "code",
   "execution_count": 12,
   "metadata": {},
   "outputs": [
    {
     "data": {
      "text/plain": [
       "array([[<matplotlib.axes._subplots.AxesSubplot object at 0x1a13941110>,\n",
       "        <matplotlib.axes._subplots.AxesSubplot object at 0x1a0dce0d50>,\n",
       "        <matplotlib.axes._subplots.AxesSubplot object at 0x1a16d50710>],\n",
       "       [<matplotlib.axes._subplots.AxesSubplot object at 0x1a16d8cf90>,\n",
       "        <matplotlib.axes._subplots.AxesSubplot object at 0x1a16ddaf50>,\n",
       "        <matplotlib.axes._subplots.AxesSubplot object at 0x1a16e10890>],\n",
       "       [<matplotlib.axes._subplots.AxesSubplot object at 0x1a16e67250>,\n",
       "        <matplotlib.axes._subplots.AxesSubplot object at 0x1a16ea8ad0>,\n",
       "        <matplotlib.axes._subplots.AxesSubplot object at 0x1a16ec9f10>],\n",
       "       [<matplotlib.axes._subplots.AxesSubplot object at 0x1a16f39e10>,\n",
       "        <matplotlib.axes._subplots.AxesSubplot object at 0x1a16f81110>,\n",
       "        <matplotlib.axes._subplots.AxesSubplot object at 0x1a16f9d790>]],\n",
       "      dtype=object)"
      ]
     },
     "execution_count": 12,
     "metadata": {},
     "output_type": "execute_result"
    },
    {
     "data": {
      "image/png": "[encoded data removed]",
      "text/plain": [
       "<matplotlib.figure.Figure at 0x1a0df19050>"
      ]
     },
     "metadata": {},
     "output_type": "display_data"
    }
   ],
   "source": [
    "db.hist(bins=50, figsize=(20,10))"
   ]
  },
  {
   "cell_type": "markdown",
   "metadata": {},
   "source": [
    "<h2>Describe the dataset</h2>\n",
    "\n",
    "1. <b>How many classes has the data set?</b>\n",
    "        The dataset has 6 classes. \n",
    "2. <b>Does the data set contain null-values? If yes, how many?</b>   \n",
    "        The dataset does not contain null values.\n",
    "3. <b>How many instances has each class? Include the histogram of the classes.</b>\n",
    "        Class 1 has 70 instances, Class 2 has 76 instances, class 3 has 17 instances, class 4 has 0 instances, class 5 has 13 instances, class 6 has 9 instances, class 7 has 29 instances. The histogram of the classes is pictured above.\n",
    "4. <b>Is the data set balanced? If not, which is the class with less number of instances?</b>\n",
    "        The dataset is not balanced. The class with the least number of instances is class 6 with 9 instances.\n",
    "5. <b>Describe the distribution of the variables of the dataset.</b>\n",
    "        We can see that the variables Al, Na, RI, Ca and Si have a distribution that is mostly similar to a normal distribution. The variable Mg and K have two peaks, one of which is at 0. The variables Ba and Fe have both a big peak at 0."
   ]
  },
  {
   "cell_type": "markdown",
   "metadata": {},
   "source": [
    "<h2>Implement the Classification Pipeline</h2>\n",
    "\n",
    "<b>1. Based on the size of the data set, which of the train-test sets divisions techniques we have seen, would you use? Explain your reasons and implement the one you think it is the most appropriate to this problem. If you chose the random split, use the test set size equal to the 25% of the dataset and the random seed equal to 8. If you chose the cross-validation algorithm, implement a 5-fold cross validation using 8 as random seed.</b>\n",
    "\n",
    "    Since the dataset is not very large (214 instances), the random split is not suitable because a single split would be incapable of creating a satisfactory variance in the estimates. Therefore, we have decided to use the cross-validation technique.\n",
    "\n"
   ]
  },
  {
   "cell_type": "code",
   "execution_count": 13,
   "metadata": {},
   "outputs": [
    {
     "name": "stdout",
     "output_type": "stream",
     "text": [
      "('TRAIN:', array([  2,   3,   4,   6,   7,   8,   9,  10,  11,  12,  13,  14,  15,\n",
      "        16,  17,  18,  19,  20,  21,  22,  24,  28,  29,  31,  32,  33,\n",
      "        34,  35,  36,  37,  38,  39,  40,  41,  42,  43,  44,  45,  46,\n",
      "        47,  48,  49,  50,  51,  52,  53,  54,  55,  56,  57,  58,  59,\n",
      "        60,  61,  62,  63,  64,  66,  67,  68,  69,  70,  71,  72,  73,\n",
      "        74,  75,  76,  79,  81,  82,  83,  84,  85,  86,  87,  89,  90,\n",
      "        91,  92,  93,  95,  96,  98,  99, 102, 104, 105, 107, 108, 109,\n",
      "       110, 111, 112, 113, 115, 116, 118, 119, 120, 121, 122, 123, 125,\n",
      "       126, 128, 129, 130, 131, 133, 134, 135, 136, 137, 138, 139, 140,\n",
      "       142, 143, 145, 146, 147, 148, 149, 151, 152, 153, 154, 155, 156,\n",
      "       158, 159, 160, 163, 165, 167, 169, 170, 171, 173, 175, 176, 177,\n",
      "       178, 179, 180, 181, 184, 185, 186, 187, 188, 189, 191, 192, 193,\n",
      "       194, 195, 196, 199, 201, 202, 203, 204, 205, 206, 207, 208, 209,\n",
      "       211, 213]), 'TEST:', array([  0,   1,   5,  23,  25,  26,  27,  30,  65,  77,  78,  80,  88,\n",
      "        94,  97, 100, 101, 103, 106, 114, 117, 124, 127, 132, 141, 144,\n",
      "       150, 157, 161, 162, 164, 166, 168, 172, 174, 182, 183, 190, 197,\n",
      "       198, 200, 210, 212]))\n",
      "('TRAIN:', array([  0,   1,   2,   5,   6,   7,   8,   9,  11,  13,  14,  15,  16,\n",
      "        18,  19,  20,  21,  22,  23,  25,  26,  27,  28,  29,  30,  31,\n",
      "        32,  33,  34,  35,  36,  37,  38,  39,  41,  43,  45,  46,  47,\n",
      "        48,  49,  51,  53,  54,  55,  58,  59,  60,  61,  62,  63,  64,\n",
      "        65,  66,  70,  71,  72,  73,  74,  75,  76,  77,  78,  80,  81,\n",
      "        83,  84,  85,  86,  88,  89,  90,  91,  92,  93,  94,  95,  97,\n",
      "        98,  99, 100, 101, 102, 103, 104, 105, 106, 107, 108, 109, 112,\n",
      "       114, 115, 117, 118, 119, 120, 122, 123, 124, 125, 126, 127, 129,\n",
      "       132, 133, 134, 135, 136, 137, 138, 139, 140, 141, 142, 143, 144,\n",
      "       146, 147, 150, 154, 155, 157, 159, 160, 161, 162, 163, 164, 165,\n",
      "       166, 168, 169, 170, 171, 172, 173, 174, 175, 176, 177, 178, 179,\n",
      "       180, 181, 182, 183, 184, 185, 188, 189, 190, 191, 192, 193, 195,\n",
      "       196, 197, 198, 200, 202, 203, 204, 205, 206, 207, 208, 209, 210,\n",
      "       211, 212]), 'TEST:', array([  3,   4,  10,  12,  17,  24,  40,  42,  44,  50,  52,  56,  57,\n",
      "        67,  68,  69,  79,  82,  87,  96, 110, 111, 113, 116, 121, 128,\n",
      "       130, 131, 145, 148, 149, 151, 152, 153, 156, 158, 167, 186, 187,\n",
      "       194, 199, 201, 213]))\n",
      "('TRAIN:', array([  0,   1,   2,   3,   4,   5,   6,   7,   9,  10,  12,  13,  14,\n",
      "        15,  16,  17,  18,  19,  20,  21,  23,  24,  25,  26,  27,  28,\n",
      "        30,  31,  36,  37,  38,  40,  42,  44,  46,  47,  48,  50,  51,\n",
      "        52,  53,  54,  56,  57,  59,  60,  61,  63,  64,  65,  66,  67,\n",
      "        68,  69,  71,  73,  77,  78,  79,  80,  81,  82,  83,  84,  85,\n",
      "        86,  87,  88,  91,  93,  94,  95,  96,  97,  98, 100, 101, 102,\n",
      "       103, 104, 105, 106, 107, 108, 109, 110, 111, 112, 113, 114, 115,\n",
      "       116, 117, 118, 120, 121, 122, 123, 124, 125, 126, 127, 128, 130,\n",
      "       131, 132, 133, 134, 135, 136, 137, 138, 141, 143, 144, 145, 146,\n",
      "       148, 149, 150, 151, 152, 153, 154, 155, 156, 157, 158, 161, 162,\n",
      "       164, 165, 166, 167, 168, 169, 170, 171, 172, 174, 175, 176, 177,\n",
      "       178, 180, 181, 182, 183, 184, 185, 186, 187, 188, 190, 191, 192,\n",
      "       193, 194, 195, 196, 197, 198, 199, 200, 201, 205, 206, 210, 211,\n",
      "       212, 213]), 'TEST:', array([  8,  11,  22,  29,  32,  33,  34,  35,  39,  41,  43,  45,  49,\n",
      "        55,  58,  62,  70,  72,  74,  75,  76,  89,  90,  92,  99, 119,\n",
      "       129, 139, 140, 142, 147, 159, 160, 163, 173, 179, 189, 202, 203,\n",
      "       204, 207, 208, 209]))\n",
      "('TRAIN:', array([  0,   1,   3,   4,   5,   8,   9,  10,  11,  12,  13,  14,  17,\n",
      "        18,  22,  23,  24,  25,  26,  27,  29,  30,  32,  33,  34,  35,\n",
      "        39,  40,  41,  42,  43,  44,  45,  48,  49,  50,  51,  52,  53,\n",
      "        55,  56,  57,  58,  59,  60,  61,  62,  65,  66,  67,  68,  69,\n",
      "        70,  71,  72,  74,  75,  76,  77,  78,  79,  80,  81,  82,  83,\n",
      "        84,  85,  87,  88,  89,  90,  92,  93,  94,  96,  97,  98,  99,\n",
      "       100, 101, 102, 103, 104, 105, 106, 108, 109, 110, 111, 113, 114,\n",
      "       115, 116, 117, 119, 121, 124, 125, 127, 128, 129, 130, 131, 132,\n",
      "       133, 136, 137, 139, 140, 141, 142, 143, 144, 145, 147, 148, 149,\n",
      "       150, 151, 152, 153, 154, 155, 156, 157, 158, 159, 160, 161, 162,\n",
      "       163, 164, 166, 167, 168, 170, 172, 173, 174, 177, 179, 181, 182,\n",
      "       183, 184, 185, 186, 187, 188, 189, 190, 191, 193, 194, 195, 197,\n",
      "       198, 199, 200, 201, 202, 203, 204, 206, 207, 208, 209, 210, 211,\n",
      "       212, 213]), 'TEST:', array([  2,   6,   7,  15,  16,  19,  20,  21,  28,  31,  36,  37,  38,\n",
      "        46,  47,  54,  63,  64,  73,  86,  91,  95, 107, 112, 118, 120,\n",
      "       122, 123, 126, 134, 135, 138, 146, 165, 169, 171, 175, 176, 178,\n",
      "       180, 192, 196, 205]))\n",
      "('TRAIN:', array([  0,   1,   2,   3,   4,   5,   6,   7,   8,  10,  11,  12,  15,\n",
      "        16,  17,  19,  20,  21,  22,  23,  24,  25,  26,  27,  28,  29,\n",
      "        30,  31,  32,  33,  34,  35,  36,  37,  38,  39,  40,  41,  42,\n",
      "        43,  44,  45,  46,  47,  49,  50,  52,  54,  55,  56,  57,  58,\n",
      "        62,  63,  64,  65,  67,  68,  69,  70,  72,  73,  74,  75,  76,\n",
      "        77,  78,  79,  80,  82,  86,  87,  88,  89,  90,  91,  92,  94,\n",
      "        95,  96,  97,  99, 100, 101, 103, 106, 107, 110, 111, 112, 113,\n",
      "       114, 116, 117, 118, 119, 120, 121, 122, 123, 124, 126, 127, 128,\n",
      "       129, 130, 131, 132, 134, 135, 138, 139, 140, 141, 142, 144, 145,\n",
      "       146, 147, 148, 149, 150, 151, 152, 153, 156, 157, 158, 159, 160,\n",
      "       161, 162, 163, 164, 165, 166, 167, 168, 169, 171, 172, 173, 174,\n",
      "       175, 176, 178, 179, 180, 182, 183, 186, 187, 189, 190, 192, 194,\n",
      "       196, 197, 198, 199, 200, 201, 202, 203, 204, 205, 207, 208, 209,\n",
      "       210, 212, 213]), 'TEST:', array([  9,  13,  14,  18,  48,  51,  53,  59,  60,  61,  66,  71,  81,\n",
      "        83,  84,  85,  93,  98, 102, 104, 105, 108, 109, 115, 125, 133,\n",
      "       136, 137, 143, 154, 155, 170, 177, 181, 184, 185, 188, 191, 193,\n",
      "       195, 206, 211]))\n"
     ]
    }
   ],
   "source": [
    "shape = db.shape\n",
    "array = db.values\n",
    "\n",
    "# Divide the dataset into X and Y\n",
    "X = array[:, 0:shape[1] - 1]\n",
    "y = array[:, shape[1] - 1]\n",
    "\n",
    "# 5 fold cross validation\n",
    "kf = KFold(n_splits=5,random_state=8, shuffle=True)\n",
    "kf.get_n_splits(X)\n",
    "\n",
    "# we divide the datasets in 5 folds, we use 8 as seed for the random generator and we shuffle the elements\n",
    "for train_index, test_index in kf.split(X):\n",
    "    print(\"TRAIN:\", train_index, \"TEST:\", test_index)\n",
    "    X_train, X_test = X[train_index], X[test_index]\n",
    "    y_train, y_test = y[train_index], y[test_index]"
   ]
  },
  {
   "cell_type": "markdown",
   "metadata": {},
   "source": [
    "<b>2. Implement a Naive Base, k-NN and Random Guess models with the default parameters. Do not use features normalization.</b>"
   ]
  },
  {
   "cell_type": "code",
   "execution_count": 14,
   "metadata": {},
   "outputs": [],
   "source": [
    "#first I implement the NB Gaussian Classifier\n",
    "\n",
    "clfNB = GaussianNB()\n",
    "for train_index, test_index in kf.split(X):\n",
    "    clfNB.fit(X_train, y_train)\n",
    "    \n",
    "#then I implement the k-NN classifier\n",
    "\n",
    "neigh = KNeighborsClassifier()\n",
    "for train_index, test_index in kf.split(X):\n",
    "    neigh.fit(X_train, y_train)\n",
    "    \n",
    "#then I implement the random guess model\n",
    "randomguess =  DummyClassifier();\n",
    "for train_index, test_index in kf.split(X):\n",
    "    randomguess.fit(X_train, y_train)"
   ]
  },
  {
   "cell_type": "markdown",
   "metadata": {},
   "source": [
    "<b> Which of the models present the highest accuracy? Which of the models present the highest precision (use the \"scoring\" = precision weighted)? Which of the models present the highest (\"scoring\" = recall weighted)? Which of the models present the  highest F1 (\"scoring\" = f1 weighted)? If your aim was to have a smallnumber of False Negatives (FN), which of the models would you pick? Why?</b>"
   ]
  },
  {
   "cell_type": "code",
   "execution_count": 15,
   "metadata": {},
   "outputs": [
    {
     "name": "stdout",
     "output_type": "stream",
     "text": [
      "Accuracy for the Naive Bayes Classifier:\n",
      "0.47619047619047616\n",
      "Accuracy for the K-Neighbours Classifier:\n",
      "0.7142857142857143\n",
      "Accuracy for the Random Classifier:\n",
      "0.30952380952380953\n"
     ]
    }
   ],
   "source": [
    "#I calculate accuracy, precision, recall, F1 for each model\n",
    "\n",
    "#first I do predictions\n",
    "for train_index, test_index in kf.split(X):\n",
    "    predictionNB = clfNB.predict(X_test)\n",
    "    predictionNeigh = neigh.predict(X_test)\n",
    "    predictionRand = randomguess.predict(X_test)\n",
    "    \n",
    "#accuracy\n",
    "\n",
    "accuracyNB = []\n",
    "accuracyNeigh = []\n",
    "accuracyRand = []\n",
    "\n",
    "for train_index, test_index in kf.split(X):\n",
    "    accNB=accuracy_score(y_test, predictionNB)\n",
    "    accuracyNB.append(accNB)\n",
    "    \n",
    "    accNeigh=accuracy_score(y_test,predictionNeigh)\n",
    "    accuracyNeigh.append(accNeigh)\n",
    "    \n",
    "    accRand=accuracy_score(y_test,predictionRand)\n",
    "    accuracyRand.append(accRand)\n",
    "    \n",
    "print(\"Accuracy for the Naive Bayes Classifier:\")\n",
    "print(np.mean(accuracyNB))\n",
    "    \n",
    "print(\"Accuracy for the K-Neighbours Classifier:\")\n",
    "print(np.mean(accuracyNeigh))\n",
    "\n",
    "print(\"Accuracy for the Random Classifier:\")\n",
    "print(np.mean(accuracyRand))"
   ]
  },
  {
   "cell_type": "code",
   "execution_count": 16,
   "metadata": {},
   "outputs": [
    {
     "name": "stdout",
     "output_type": "stream",
     "text": [
      "Weighted Precision for the Naive Bayes Classifier:\n",
      "0.4916666666666666\n",
      "Weighted Precision for the K-Neighbours Classifier:\n",
      "0.7468253968253968\n",
      "Weighted Precision for the Random Classifier:\n",
      "0.3240392648287385\n"
     ]
    },
    {
     "name": "stderr",
     "output_type": "stream",
     "text": [
      "/anaconda2/lib/python2.7/site-packages/sklearn/metrics/classification.py:1135: UndefinedMetricWarning: Precision is ill-defined and being set to 0.0 in labels with no predicted samples.\n",
      "  'precision', 'predicted', average, warn_for)\n"
     ]
    }
   ],
   "source": [
    "#precision\n",
    "\n",
    "precisionNB = []\n",
    "precisionNeigh = []\n",
    "precisionRand = []\n",
    "\n",
    "for train_index, test_index in kf.split(X):\n",
    "    presNB=precision_score(y_test, predictionNB, average='weighted')\n",
    "    precisionNB.append(presNB)\n",
    "    \n",
    "    presNeigh=precision_score(y_test, predictionNeigh, average='weighted')\n",
    "    precisionNeigh.append(presNeigh)\n",
    "    \n",
    "    presRand = precision_score(y_test, predictionRand, average='weighted')\n",
    "    precisionRand.append(presRand)\n",
    "    \n",
    "print(\"Weighted Precision for the Naive Bayes Classifier:\")\n",
    "print(np.mean(precisionNB))\n",
    "    \n",
    "print(\"Weighted Precision for the K-Neighbours Classifier:\")\n",
    "print(np.mean(precisionNeigh))\n",
    "\n",
    "print(\"Weighted Precision for the Random Classifier:\")\n",
    "print(np.mean(precisionRand))"
   ]
  },
  {
   "cell_type": "code",
   "execution_count": 17,
   "metadata": {},
   "outputs": [
    {
     "name": "stdout",
     "output_type": "stream",
     "text": [
      "Weighted Recall for the Naive Bayes Classifier:\n",
      "0.47619047619047616\n",
      "Weighted Recall for the K-Neighbours Classifier:\n",
      "0.7142857142857143\n",
      "Weighted Recall for the Random Classifier:\n",
      "0.30952380952380953\n"
     ]
    }
   ],
   "source": [
    "#weighted recall\n",
    "\n",
    "recallNB = []\n",
    "recallNeigh = []\n",
    "recallRand = []\n",
    "\n",
    "for train_index, test_index in kf.split(X):\n",
    "    recNB = recall_score(y_test, predictionNB, average='weighted')\n",
    "    recallNB.append(recNB)\n",
    "    \n",
    "    recNeigh=recall_score(y_test,predictionNeigh, average='weighted')\n",
    "    recallNeigh.append(recNeigh)\n",
    "    \n",
    "    recRand = recall_score(y_test,predictionRand, average='weighted')\n",
    "    recallRand.append(recRand)\n",
    "    \n",
    "print(\"Weighted Recall for the Naive Bayes Classifier:\")\n",
    "print(np.mean(recallNB))\n",
    "    \n",
    "print(\"Weighted Recall for the K-Neighbours Classifier:\")\n",
    "print(np.mean(recallNeigh))\n",
    "\n",
    "print(\"Weighted Recall for the Random Classifier:\")\n",
    "print(np.mean(recallRand))"
   ]
  },
  {
   "cell_type": "code",
   "execution_count": 18,
   "metadata": {},
   "outputs": [
    {
     "name": "stdout",
     "output_type": "stream",
     "text": [
      "Weighted F1-Score for the Naive Bayes Classifier:\n",
      "0.40437710437710433\n",
      "Weighted F1-Score for the K-Neighbours Classifier:\n",
      "0.7162337662337661\n",
      "Weighted F1-Score for the Random Classifier:\n",
      "0.3101505231940015\n"
     ]
    },
    {
     "name": "stderr",
     "output_type": "stream",
     "text": [
      "/anaconda2/lib/python2.7/site-packages/sklearn/metrics/classification.py:1135: UndefinedMetricWarning: F-score is ill-defined and being set to 0.0 in labels with no predicted samples.\n",
      "  'precision', 'predicted', average, warn_for)\n"
     ]
    }
   ],
   "source": [
    "#F1\n",
    "\n",
    "f1scoreNB = []\n",
    "f1scoreNeigh = []\n",
    "f1scoreRand = []\n",
    "\n",
    "for train_index, test_index in kf.split(X):\n",
    "    f1NB = f1_score(y_test, predictionNB, average='weighted')\n",
    "    f1scoreNB.append(f1NB)\n",
    "    \n",
    "    f1Neigh=f1_score(y_test,predictionNeigh, average='weighted')\n",
    "    f1scoreNeigh.append(f1Neigh)\n",
    "    \n",
    "    f1Rand = f1_score(y_test,predictionRand, average='weighted')\n",
    "    f1scoreRand.append(f1Rand)\n",
    "    \n",
    "print(\"Weighted F1-Score for the Naive Bayes Classifier:\")\n",
    "print(np.mean(f1scoreNB))\n",
    "    \n",
    "print(\"Weighted F1-Score for the K-Neighbours Classifier:\")\n",
    "print(np.mean(f1scoreNeigh))\n",
    "\n",
    "print(\"Weighted F1-Score for the Random Classifier:\")\n",
    "print(np.mean(f1scoreRand))"
   ]
  },
  {
   "cell_type": "markdown",
   "metadata": {},
   "source": [
    "<b>1. Which of the models present the highest accuracy?</b> The k-NN model.\n",
    "\n",
    "<b>2. Which of the models present the highest precision?</b> The k-NN model.\n",
    "\n",
    "<b>3. Which of the models present the highest recall?</b> The k-NN model.\n",
    "\n",
    "<b>4. Which of the models present the highest F1 score?</b> The k-NN model.\n",
    "\n",
    "<b>5. If your aim was to have a small number of False Negatives (FN), which of the models would you pick? Why?</b> I would pick the k-NN model because it is the model with the highest recall, and the recall represents the % of positive tuples labeled as positive, therefore the higher it is, the lower is the number of false negatives."
   ]
  },
  {
   "cell_type": "markdown",
   "metadata": {},
   "source": [
    "<h2>Tune the Classifiers' Parameters</h2>\n",
    "\n",
    "Using GridSearchCV tune the parameters of the k-NN to improve its performance. Before applying GridSearchCV, divide the dataset in train and test set using the random split.\n",
    "\n",
    "Use the seed = 4 and the test set size = 30%. In particular verify with which of the number of neighbors among [1:100], k-NN gets the best performance, in terms of precision, recall, accuracy and F1. Which are the best number of neighbors, for these metrics? \n",
    "\n",
    "Report the metrics, are they increased?"
   ]
  },
  {
   "cell_type": "code",
   "execution_count": 22,
   "metadata": {},
   "outputs": [
    {
     "name": "stdout",
     "output_type": "stream",
     "text": [
      "('best parameters:', {'n_neighbors': 1})\n"
     ]
    }
   ],
   "source": [
    "#first I divide the dataset in train and set using the random split\n",
    "#seed = 4, test set size = 30%\n",
    "\n",
    "X_train, X_test, y_train, y_test = train_test_split(X, y, test_size=0.30, random_state=4)\n",
    "\n",
    "#then I apply GridSearchCV\n",
    "\n",
    "parameters = {'n_neighbors':[1, 100]}\n",
    "\n",
    "clf = GridSearchCV(KNeighborsClassifier(), parameters, cv = 5)\n",
    "clf.fit(X_train, y_train)\n",
    "\n",
    "print(\"best parameters:\", clf.best_params_)\n"
   ]
  },
  {
   "cell_type": "code",
   "execution_count": 24,
   "metadata": {},
   "outputs": [
    {
     "name": "stdout",
     "output_type": "stream",
     "text": [
      "('best parameters:', {'svc__C': 10})\n"
     ]
    }
   ],
   "source": [
    "# Create the pipeline\n",
    "clf = make_pipeline(MinMaxScaler(), svm.SVC(kernel ='linear'))\n",
    "\n",
    "#divide the dataset in train and set using the random split\n",
    "#seed = 4, test set size = 30%\n",
    "X_train, X_test, y_train, y_test = train_test_split(X, y, test_size=0.30, random_state=4)\n",
    "\n",
    "#then I apply GridSearchCV\n",
    "\n",
    "param_grid = {'svc__C': [0.001, 0.01, 0.1, 1, 10, 100] }\n",
    "\n",
    "grid = GridSearchCV(clf, param_grid, cv = 5, scoring='accuracy')\n",
    "\n",
    "grid.fit(X_train, y_train)\n",
    "\n",
    "print(\"best parameters:\", grid.best_params_)\n"
   ]
  },
  {
   "cell_type": "code",
   "execution_count": null,
   "metadata": {},
   "outputs": [],
   "source": []
  }
 ],
 "metadata": {
  "kernelspec": {
   "display_name": "Python 2",
   "language": "python",
   "name": "python2"
  },
  "language_info": {
   "codemirror_mode": {
    "name": "ipython",
    "version": 2
   },
   "file_extension": ".py",
   "mimetype": "text/x-python",
   "name": "python",
   "nbconvert_exporter": "python",
   "pygments_lexer": "ipython2",
   "version": "2.7.14"
  }
 },
 "nbformat": 4,
 "nbformat_minor": 2
}
